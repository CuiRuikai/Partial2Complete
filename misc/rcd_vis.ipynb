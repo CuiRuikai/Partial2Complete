{
 "cells": [
  {
   "attachments": {},
   "cell_type": "markdown",
   "metadata": {},
   "source": [
    "# Visualize RCD Effect\n",
    "\n",
    "---\n",
    "\n",
    "**Disclaimer**: This script is for demonstration purposes only. It is not intended to assess or verify its functionality on any other devices or systems.\n",
    "\n",
    "samples used in paper:\n",
    "chair -> ./1015e71a0d21b127de03ab2a27ba7531.pcd (); ./1016f4debe988507589aae130c1f06fb.pcd(4, 0, 1)\n"
   ]
  },
  {
   "cell_type": "code",
   "execution_count": null,
   "metadata": {},
   "outputs": [],
   "source": [
    "import os\n",
    "import numpy as np\n",
    "import torch\n",
    "import cv2 as cv\n",
    "\n",
    "import open3d as o3d\n",
    "# import visulization libs\n",
    "import visdom\n",
    "vis = visdom.Visdom()\n",
    "\n",
    "import sys\n",
    "sys.path.append(\"../\")\n",
    "from extensions.chamfer_dist import ChamferDistanceL2, PatialChamferDistanceL2, RegionAwareChamferDistance\n",
    "\n",
    "import numexpr as ne\n",
    "os.environ['NUMEXPR_MAX_THREADS'] = '8'\n",
    "os.environ['NUMEXPR_NUM_THREADS'] = '8'\n",
    "\n",
    "np.random.seed(0)"
   ]
  },
  {
   "cell_type": "code",
   "execution_count": null,
   "metadata": {},
   "outputs": [],
   "source": [
    "# complete = o3d.io.read_point_cloud(\"./samples/rcd/chair2/1016f4debe988507589aae130c1f06fb.pcd\")\n",
    "# o3d.io.write_point_cloud(\"./samples/rcd/chair2/complete.ply\", complete)\n",
    "# partial = o3d.io.read_point_cloud(\"./samples/rcd/chair2/04.pcd\")\n",
    "# o3d.io.write_point_cloud(\"./samples/rcd/chair2/04.ply\", partial)\n",
    "\n",
    "complete = o3d.io.read_point_cloud(\"./samples/rcd/chair2/complete.ply\")\n",
    "partial = o3d.io.read_point_cloud(\"./samples/rcd/chair2/04.ply\")\n",
    "# o3d.visualization.draw_geometries([complete, partial])\n",
    "\n",
    "inpt = np.asarray(partial.points)\n",
    "gt = np.asarray(complete.points)\n",
    "choice = np.random.choice(gt.shape[0], 8192, replace=False)\n",
    "gt = gt[choice]\n",
    "gt.shape, inpt.shape"
   ]
  },
  {
   "cell_type": "code",
   "execution_count": null,
   "metadata": {},
   "outputs": [],
   "source": [
    "vis.scatter(X=inpt, win='partial', opts=dict(title='partial', markersize=2))\n",
    "vis.scatter(X=gt, win='complete', opts=dict(title='complete', markersize=2))"
   ]
  },
  {
   "cell_type": "code",
   "execution_count": null,
   "metadata": {},
   "outputs": [],
   "source": [
    "print(gt.shape, inpt.shape)\n",
    "# randomly select 3 x 2048 points to add different scales of noise\n",
    "idx = np.random.choice(gt.shape[0], 3*2048, replace=False)\n",
    "# sigma1 = 0.0001\n",
    "sigma2 = 0.001\n",
    "sigma3 = 0.018\n",
    "# noise = torch.normal(torch.zeros((2048, 3)), sigma1 * torch.ones((2048, 3)))\n",
    "synthetic_pred = torch.from_numpy(gt).float()\n",
    "# synthetic_pred[idx[:2048]] += noise\n",
    "noise = torch.normal(torch.zeros((2048, 3)), sigma2 * torch.ones((2048, 3)))\n",
    "synthetic_pred[idx[2048:4096]] += noise\n",
    "noise = torch.normal(torch.zeros((2048, 3)), sigma3 * torch.ones((2048, 3)))\n",
    "synthetic_pred[idx[4096:]] += noise\n",
    "\n",
    "vis.scatter(X=synthetic_pred.numpy(), win='synthetic_pred', opts=dict(title='synthetic_pred', markersize=2))"
   ]
  },
  {
   "cell_type": "code",
   "execution_count": null,
   "metadata": {},
   "outputs": [],
   "source": [
    "pred, target = synthetic_pred.unsqueeze(0), torch.from_numpy(inpt).unsqueeze(0)\n",
    "pred.shape, target.shape"
   ]
  },
  {
   "cell_type": "code",
   "execution_count": null,
   "metadata": {},
   "outputs": [],
   "source": [
    "# implement the distance function\n",
    "\n",
    "def pairwise_distance(x, y):\n",
    "    \"\"\"\n",
    "    compute the pairwise distance between x and y and return the shortest distance for each element in x\n",
    "    Args:\n",
    "        x: (B, N, C)\n",
    "        y: (B, M, C)\n",
    "    Returns:\n",
    "        dist: (B, N, M)\n",
    "    \"\"\"\n",
    "    x = x.unsqueeze(2)\n",
    "    y = y.unsqueeze(1)\n",
    "    dist = torch.norm((x - y), dim=-1)\n",
    "    return dist"
   ]
  },
  {
   "cell_type": "code",
   "execution_count": null,
   "metadata": {},
   "outputs": [],
   "source": [
    "# Chamfer Distance\n",
    "\n",
    "def per_point_chamfer_distance(x, y):\n",
    "    \"\"\"\n",
    "    compute the chamfer distance between x and y\n",
    "    Args:\n",
    "        x: (B, N, C); complete prediction\n",
    "        y: (B, M, C); partial input\n",
    "    Returns:\n",
    "        dist: (B, N, M)\n",
    "    \"\"\"\n",
    "    # for each point in x, find the closest point in y\n",
    "    dist1 = pairwise_distance(x, y)\n",
    "    dist1 = torch.min(dist1, dim=-1)[0]\n",
    "    dist1 = dist1.flatten()\n",
    "\n",
    "    # for each point in y, find the closest point idx in x\n",
    "    dist2 = pairwise_distance(y, x)\n",
    "    dist2, idx = torch.min(dist2, dim=-1)\n",
    "\n",
    "    for i in idx.unique():\n",
    "        reverse_dist = dist2[idx.eq(i)].mean()\n",
    "        dist1[i] += reverse_dist\n",
    "        dist1[i] /= 2\n",
    "\n",
    "    return dist1"
   ]
  },
  {
   "cell_type": "code",
   "execution_count": null,
   "metadata": {},
   "outputs": [],
   "source": [
    "cd = per_point_chamfer_distance(pred, target)"
   ]
  },
  {
   "cell_type": "code",
   "execution_count": null,
   "metadata": {},
   "outputs": [],
   "source": [
    "density = cd.numpy()\n",
    "density = (density - density.min())/ (density.max() - density.min())\n",
    "density = 255 - np.uint8(255*density)\n",
    "color_map = cv.applyColorMap(density, cv.COLORMAP_JET)/255\n",
    "color_map = np.squeeze(color_map)\n",
    "\n",
    "pcd = o3d.geometry.PointCloud()\n",
    "pcd.points = o3d.utility.Vector3dVector(synthetic_pred.numpy())\n",
    "pcd.colors = o3d.utility.Vector3dVector(color_map)\n",
    "o3d.visualization.draw_geometries([pcd])"
   ]
  },
  {
   "cell_type": "code",
   "execution_count": null,
   "metadata": {},
   "outputs": [],
   "source": [
    "def per_point_unidirectional_chamfer_distance(x, y):\n",
    "    \"\"\"\n",
    "    compute the per point unidirectional chamfer distance between x and y\n",
    "    Args:\n",
    "        x: (B, N, C); complete prediction\n",
    "        y: (B, M, C); partial input\n",
    "    Returns:\n",
    "        dist: (B, N, M)\n",
    "    \"\"\"\n",
    "    # for each point in y, find the closest point idx in x\n",
    "    dist1 = np.zeros(x.shape[1])\n",
    "    dist2 = pairwise_distance(y, x)\n",
    "    dist2, idx = torch.min(dist2, dim=-1)\n",
    "\n",
    "    for i in idx.unique():\n",
    "        reverse_dist = dist2[idx.eq(i)].mean()\n",
    "        dist1[i] += reverse_dist\n",
    "\n",
    "    return torch.Tensor(dist1)"
   ]
  },
  {
   "cell_type": "code",
   "execution_count": null,
   "metadata": {},
   "outputs": [],
   "source": [
    "ucd = per_point_unidirectional_chamfer_distance(pred, target)\n",
    "density = ucd.numpy()\n",
    "density = (density - density.min())/ (density.max() - density.min())\n",
    "density = 255 - np.uint8(255*density)\n",
    "color_map = cv.applyColorMap(density, cv.COLORMAP_JET)/255\n",
    "color_map = np.squeeze(color_map)\n",
    "pcd = o3d.geometry.PointCloud()\n",
    "pcd.points = o3d.utility.Vector3dVector(synthetic_pred.numpy())\n",
    "pcd.colors = o3d.utility.Vector3dVector(color_map)\n",
    "o3d.visualization.draw_geometries([pcd])\n"
   ]
  },
  {
   "cell_type": "code",
   "execution_count": null,
   "metadata": {},
   "outputs": [],
   "source": [
    "def per_point_region_aware_chamfer_distance(x, y, n_nbrs=64):\n",
    "    y2x_dist = - pairwise_distance(y, x)\n",
    "    y2x_dist, y2x_idx = torch.topk(y2x_dist, k=n_nbrs, dim=-1)\n",
    "    y2x_dist = - y2x_dist\n",
    "\n",
    "    effect = np.zeros(x.shape[1])\n",
    "    selected_points = y2x_idx.unique()\n",
    "    for i in selected_points:\n",
    "        effect[i] = torch.norm(x[:, i, :]-y, dim=-1).min()\n",
    "        effect[i] += y2x_dist[y2x_idx.eq(i)].mean()\n",
    "        effect[i] /= 2\n",
    "    return torch.Tensor(effect)"
   ]
  },
  {
   "cell_type": "code",
   "execution_count": null,
   "metadata": {},
   "outputs": [],
   "source": [
    "rcd = per_point_region_aware_chamfer_distance(pred, target, n_nbrs=128)"
   ]
  },
  {
   "cell_type": "code",
   "execution_count": null,
   "metadata": {},
   "outputs": [],
   "source": [
    "density = rcd.numpy()\n",
    "density = (density - density.min())/ (density.max() - density.min())\n",
    "density = 255 - np.uint8(255*density)\n",
    "color_map = cv.applyColorMap(density, cv.COLORMAP_JET)/255\n",
    "color_map = np.squeeze(color_map)\n",
    "\n",
    "pcd = o3d.geometry.PointCloud()\n",
    "pcd.points = o3d.utility.Vector3dVector(synthetic_pred.numpy())\n",
    "pcd.colors = o3d.utility.Vector3dVector(color_map)\n",
    "o3d.visualization.draw_geometries([pcd])"
   ]
  },
  {
   "cell_type": "code",
   "execution_count": null,
   "metadata": {},
   "outputs": [],
   "source": [
    "# assign RGB 211,211,211 to partial\n",
    "pcd = o3d.geometry.PointCloud()\n",
    "points = np.asarray(partial.points)\n",
    "pcd.points = o3d.utility.Vector3dVector(points)\n",
    "pcd.colors = o3d.utility.Vector3dVector(np.ones((points.shape[0], 3))*128/255)\n",
    "o3d.visualization.draw_geometries([pcd])"
   ]
  },
  {
   "cell_type": "code",
   "execution_count": null,
   "metadata": {},
   "outputs": [],
   "source": [
    "# camera pose, copy all and paste to meshlab\n",
    "{\n",
    "\t\"class_name\" : \"ViewTrajectory\",\n",
    "\t\"interval\" : 29,\n",
    "\t\"is_loop\" : false,\n",
    "\t\"trajectory\" :\n",
    "\t[\n",
    "\t\t{\n",
    "\t\t\t\"boundingbox_max\" : [ 0.27304661273956299, 0.4258209764957428, 0.25082644820213318 ],\n",
    "\t\t\t\"boundingbox_min\" : [ -0.28748518228530884, -0.41839838027954102, -0.24128541350364685 ],\n",
    "\t\t\t\"field_of_view\" : 60.0,\n",
    "\t\t\t\"front\" : [ 0.58236521851613265, 0.2631111520757079, -0.76917051030057748 ],\n",
    "\t\t\t\"lookat\" : [ -0.0072192847728729248, 0.0037112981081008911, 0.0047705173492431641 ],\n",
    "\t\t\t\"up\" : [ -0.18422289729433594, 0.96427264666648294, 0.19036855571048716 ],\n",
    "\t\t\t\"zoom\" : 0.88000000000000012\n",
    "\t\t}\n",
    "\t],\n",
    "\t\"version_major\" : 1,\n",
    "\t\"version_minor\" : 0\n",
    "}"
   ]
  }
 ],
 "metadata": {
  "kernelspec": {
   "display_name": "pt",
   "language": "python",
   "name": "python3"
  },
  "language_info": {
   "codemirror_mode": {
    "name": "ipython",
    "version": 3
   },
   "file_extension": ".py",
   "mimetype": "text/x-python",
   "name": "python",
   "nbconvert_exporter": "python",
   "pygments_lexer": "ipython3",
   "version": "3.8.19"
  },
  "orig_nbformat": 4,
  "vscode": {
   "interpreter": {
    "hash": "88e987d9bf180b25a00c501427055755f1da87aee7bff0ea9a0bc3fc55c2cb99"
   }
  }
 },
 "nbformat": 4,
 "nbformat_minor": 2
}
